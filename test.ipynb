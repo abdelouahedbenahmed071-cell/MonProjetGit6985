{
 "cells": [
  {
   "cell_type": "code",
   "execution_count": 1,
   "id": "32e00722-7a3f-4965-addf-e5f0d24c11f9",
   "metadata": {},
   "outputs": [
    {
     "name": "stdout",
     "output_type": "stream",
     "text": [
      "Hello Git\n"
     ]
    }
   ],
   "source": [
    "print(\"Hello Git\")"
   ]
  },
  {
   "cell_type": "code",
   "execution_count": null,
   "id": "c56d0756-1ebd-4ba2-b9b2-1f5f77d4a9cf",
   "metadata": {},
   "outputs": [],
   "source": []
  }
 ],
 "metadata": {
  "kernelspec": {
   "display_name": "Python 3.11",
   "language": "python",
   "name": "python311"
  },
  "language_info": {
   "codemirror_mode": {
    "name": "ipython",
    "version": 3
   },
   "file_extension": ".py",
   "mimetype": "text/x-python",
   "name": "python",
   "nbconvert_exporter": "python",
   "pygments_lexer": "ipython3",
   "version": "3.11.9"
  }
 },
 "nbformat": 4,
 "nbformat_minor": 5
}
